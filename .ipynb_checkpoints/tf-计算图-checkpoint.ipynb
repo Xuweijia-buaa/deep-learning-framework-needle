{
 "cells": [
  {
   "cell_type": "code",
   "execution_count": 1,
   "id": "a0b464fc",
   "metadata": {},
   "outputs": [],
   "source": [
    "import tensorflow as tf\n",
    "import numpy as np"
   ]
  },
  {
   "cell_type": "code",
   "execution_count": 2,
   "id": "f4f7bd7a",
   "metadata": {},
   "outputs": [
    {
     "name": "stdout",
     "output_type": "stream",
     "text": [
      "WARNING:tensorflow:From /tmp/ipykernel_97716/2087560639.py:2: The name tf.placeholder is deprecated. Please use tf.compat.v1.placeholder instead.\n",
      "\n",
      "WARNING:tensorflow:From /tmp/ipykernel_97716/2087560639.py:11: The name tf.get_default_graph is deprecated. Please use tf.compat.v1.get_default_graph instead.\n",
      "\n"
     ]
    },
    {
     "data": {
      "text/plain": [
       "<tensorflow.python.framework.ops.Graph at 0x7f0a56788390>"
      ]
     },
     "execution_count": 2,
     "metadata": {},
     "output_type": "execute_result"
    }
   ],
   "source": [
    "# 定义计算图\n",
    "x = tf.placeholder(dtype=tf.float32, shape=(5,5)) #数据占位符X\n",
    "flag = tf.placeholder(dtype=tf.float32)\n",
    "w1 = tf.Variable(tf.ones([5,5]),name='w1')\n",
    "w2 = tf.Variable(tf.zeros([5,5]),name='w2')\n",
    "b = tf.Variable(tf.zeros([5,]),name='b')\n",
    "def f1(): return tf.matmul(w1,x)         # 定义两个分支内的计算函数\n",
    "def f2(): return tf.matmul(w2,x)\n",
    "y = tf.cond(flag > 0, f1, f2)           # 条件控制算子，也是计算图的一部分，由flag决定                                \n",
    "y = tf.add(y, b)                        # flag也是占位符\n",
    "tf.get_default_graph()"
   ]
  },
  {
   "cell_type": "code",
   "execution_count": 3,
   "id": "7bfd979f",
   "metadata": {},
   "outputs": [
    {
     "name": "stdout",
     "output_type": "stream",
     "text": [
      "WARNING:tensorflow:From /tmp/ipykernel_97716/3510269624.py:2: The name tf.Session is deprecated. Please use tf.compat.v1.Session instead.\n",
      "\n",
      "WARNING:tensorflow:From /tmp/ipykernel_97716/3510269624.py:3: The name tf.global_variables_initializer is deprecated. Please use tf.compat.v1.global_variables_initializer instead.\n",
      "\n",
      "WARNING:tensorflow:From /tmp/ipykernel_97716/3510269624.py:6: The name tf.summary.FileWriter is deprecated. Please use tf.compat.v1.summary.FileWriter instead.\n",
      "\n"
     ]
    },
    {
     "name": "stderr",
     "output_type": "stream",
     "text": [
      "2023-03-23 22:47:50.932867: I tensorflow/stream_executor/platform/default/dso_loader.cc:44] Successfully opened dynamic library libcuda.so.1\n",
      "2023-03-23 22:47:50.952649: E tensorflow/stream_executor/cuda/cuda_driver.cc:318] failed call to cuInit: CUDA_ERROR_UNKNOWN: unknown error\n",
      "2023-03-23 22:47:50.952672: I tensorflow/stream_executor/cuda/cuda_diagnostics.cc:169] retrieving CUDA diagnostic information for host: xuweijia-2070S\n",
      "2023-03-23 22:47:50.952677: I tensorflow/stream_executor/cuda/cuda_diagnostics.cc:176] hostname: xuweijia-2070S\n",
      "2023-03-23 22:47:50.952711: I tensorflow/stream_executor/cuda/cuda_diagnostics.cc:200] libcuda reported version is: 455.38.0\n",
      "2023-03-23 22:47:50.952723: I tensorflow/stream_executor/cuda/cuda_diagnostics.cc:204] kernel reported version is: 455.38.0\n",
      "2023-03-23 22:47:50.952727: I tensorflow/stream_executor/cuda/cuda_diagnostics.cc:310] kernel version seems to match DSO: 455.38.0\n",
      "2023-03-23 22:47:50.953506: I tensorflow/core/platform/cpu_feature_guard.cc:142] Your CPU supports instructions that this TensorFlow binary was not compiled to use: AVX2 FMA\n",
      "2023-03-23 22:47:50.957521: I tensorflow/core/platform/profile_utils/cpu_utils.cc:94] CPU Frequency: 2599990000 Hz\n",
      "2023-03-23 22:47:50.957851: I tensorflow/compiler/xla/service/service.cc:168] XLA service 0x5597664ae240 initialized for platform Host (this does not guarantee that XLA will be used). Devices:\n",
      "2023-03-23 22:47:50.957864: I tensorflow/compiler/xla/service/service.cc:176]   StreamExecutor device (0): Host, Default Version\n"
     ]
    }
   ],
   "source": [
    "# 执行该计算图。不论输入什么数据，都执行同一份计算图。 \n",
    "with tf.Session() as sess:\n",
    "    sess.run(tf.global_variables_initializer())                # 初始化\n",
    "    random_array = np.random.rand(5,5)\n",
    "    output=sess.run(y, feed_dict = {x:random_array, flag: 1.0}) #输入数据，执行静态图\n",
    "    writer = tf.summary.FileWriter('./graphs1', sess.graph)"
   ]
  },
  {
   "cell_type": "code",
   "execution_count": 4,
   "id": "097b48bf",
   "metadata": {},
   "outputs": [
    {
     "data": {
      "text/plain": [
       "array([[2.115268 , 1.9480227, 2.6372027, 2.7982225, 1.9964296],\n",
       "       [2.115268 , 1.9480227, 2.6372027, 2.7982225, 1.9964296],\n",
       "       [2.115268 , 1.9480227, 2.6372027, 2.7982225, 1.9964296],\n",
       "       [2.115268 , 1.9480227, 2.6372027, 2.7982225, 1.9964296],\n",
       "       [2.115268 , 1.9480227, 2.6372027, 2.7982225, 1.9964296]],\n",
       "      dtype=float32)"
      ]
     },
     "execution_count": 4,
     "metadata": {},
     "output_type": "execute_result"
    }
   ],
   "source": [
    "output"
   ]
  },
  {
   "cell_type": "code",
   "execution_count": 5,
   "id": "a989b8f7",
   "metadata": {},
   "outputs": [
    {
     "data": {
      "text/plain": [
       "<tensorflow.python.framework.ops.Graph at 0x7f0a56788390>"
      ]
     },
     "execution_count": 5,
     "metadata": {},
     "output_type": "execute_result"
    }
   ],
   "source": [
    "y.graph   # 查看已经编译好的静态计算图？"
   ]
  },
  {
   "cell_type": "code",
   "execution_count": 6,
   "id": "9f8e5a72",
   "metadata": {},
   "outputs": [],
   "source": [
    "# 加一个节点：\n",
    "y=2*y"
   ]
  },
  {
   "cell_type": "code",
   "execution_count": 7,
   "id": "d597fae8",
   "metadata": {},
   "outputs": [],
   "source": [
    "with tf.Session() as sess:\n",
    "    sess.run(tf.global_variables_initializer())            #静态图变量初始化\n",
    "    random_array = np.random.rand(5,5)\n",
    "    output=sess.run(y, feed_dict = {x:random_array, flag: 1.0})\n",
    "    writer = tf.summary.FileWriter('./graphs2', sess.graph)"
   ]
  },
  {
   "cell_type": "code",
   "execution_count": 8,
   "id": "c17977b7",
   "metadata": {},
   "outputs": [
    {
     "data": {
      "text/plain": [
       "<tensorflow.python.framework.ops.Graph at 0x7f0a56788390>"
      ]
     },
     "execution_count": 8,
     "metadata": {},
     "output_type": "execute_result"
    }
   ],
   "source": [
    "y.graph"
   ]
  },
  {
   "cell_type": "code",
   "execution_count": 12,
   "id": "a3f042c1",
   "metadata": {},
   "outputs": [
    {
     "data": {
      "text/plain": [
       "32"
      ]
     },
     "execution_count": 12,
     "metadata": {},
     "output_type": "execute_result"
    }
   ],
   "source": [
    "tf.get_default_graph()."
   ]
  },
  {
   "cell_type": "code",
   "execution_count": 12,
   "id": "bc71573c",
   "metadata": {},
   "outputs": [
    {
     "name": "stdout",
     "output_type": "stream",
     "text": [
      "TensorBoard 1.15.0 at http://xuweijia-2070S:6006/ (Press CTRL+C to quit)\n",
      "^C\n"
     ]
    }
   ],
   "source": [
    "!tensorboard --logdir=graphs1"
   ]
  },
  {
   "cell_type": "code",
   "execution_count": null,
   "id": "c7a746f9",
   "metadata": {},
   "outputs": [],
   "source": [
    "!tensorboard --logdir=graphs2  # 计算图变了"
   ]
  },
  {
   "cell_type": "code",
   "execution_count": null,
   "id": "46d6be46",
   "metadata": {},
   "outputs": [],
   "source": []
  }
 ],
 "metadata": {
  "kernelspec": {
   "display_name": "Python 3 (ipykernel)",
   "language": "python",
   "name": "python3"
  },
  "language_info": {
   "codemirror_mode": {
    "name": "ipython",
    "version": 3
   },
   "file_extension": ".py",
   "mimetype": "text/x-python",
   "name": "python",
   "nbconvert_exporter": "python",
   "pygments_lexer": "ipython3",
   "version": "3.7.12"
  },
  "toc": {
   "base_numbering": 1,
   "nav_menu": {},
   "number_sections": true,
   "sideBar": true,
   "skip_h1_title": false,
   "title_cell": "Table of Contents",
   "title_sidebar": "Contents",
   "toc_cell": false,
   "toc_position": {},
   "toc_section_display": true,
   "toc_window_display": false
  }
 },
 "nbformat": 4,
 "nbformat_minor": 5
}
